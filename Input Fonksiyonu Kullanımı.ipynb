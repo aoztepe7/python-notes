{
 "cells": [
  {
   "cell_type": "code",
   "execution_count": 2,
   "metadata": {},
   "outputs": [
    {
     "name": "stdout",
     "output_type": "stream",
     "text": [
      "Lütfen Bir Değer Giriniz : 15\n"
     ]
    },
    {
     "data": {
      "text/plain": [
       "'15'"
      ]
     },
     "execution_count": 2,
     "metadata": {},
     "output_type": "execute_result"
    }
   ],
   "source": [
    "input(\"Lütfen Bir Değer Giriniz : \")"
   ]
  },
  {
   "cell_type": "code",
   "execution_count": 3,
   "metadata": {},
   "outputs": [
    {
     "name": "stdout",
     "output_type": "stream",
     "text": [
      "Bir Sayı Giriniz : 15\n"
     ]
    }
   ],
   "source": [
    "a = input(\"Bir Sayı Giriniz : \")"
   ]
  },
  {
   "cell_type": "code",
   "execution_count": 4,
   "metadata": {},
   "outputs": [
    {
     "data": {
      "text/plain": [
       "'15'"
      ]
     },
     "execution_count": 4,
     "metadata": {},
     "output_type": "execute_result"
    }
   ],
   "source": [
    "a"
   ]
  },
  {
   "cell_type": "code",
   "execution_count": 5,
   "metadata": {},
   "outputs": [
    {
     "name": "stdout",
     "output_type": "stream",
     "text": [
      "Sayı Giriniz : 10\n",
      "101010\n"
     ]
    }
   ],
   "source": [
    "b = input(\"Sayı Giriniz : \")\n",
    "int(b)\n",
    "print(b*3)"
   ]
  },
  {
   "cell_type": "code",
   "execution_count": 6,
   "metadata": {},
   "outputs": [
    {
     "name": "stdout",
     "output_type": "stream",
     "text": [
      "Sayı Giriniz : 10\n",
      "30\n"
     ]
    }
   ],
   "source": [
    "b = int(input(\"Sayı Giriniz : \"))\n",
    "print(b*3)"
   ]
  },
  {
   "cell_type": "code",
   "execution_count": 10,
   "metadata": {},
   "outputs": [
    {
     "name": "stdout",
     "output_type": "stream",
     "text": [
      "İlk Sayıyı Giriniz : 10\n",
      "İkinci Sayıyı Giriniz : 15\n",
      "Sayıların toplamı :  25\n"
     ]
    }
   ],
   "source": [
    "a = int(input(\"İlk Sayıyı Giriniz : \"))\n",
    "b = int(input(\"İkinci Sayıyı Giriniz : \"))\n",
    "print(\"Sayıların toplamı : \", a+b)"
   ]
  },
  {
   "cell_type": "code",
   "execution_count": 11,
   "metadata": {},
   "outputs": [
    {
     "name": "stdout",
     "output_type": "stream",
     "text": [
      "a :sdasd\n",
      "Lütfen Bir Sayı Giriniz!\n"
     ]
    }
   ],
   "source": [
    "try:\n",
    "    a = a = int(input(\"a :\"))\n",
    "    print (a)\n",
    "except ValueError:\n",
    "    print(\"Lütfen Bir Sayı Giriniz!\")\n",
    "    "
   ]
  },
  {
   "cell_type": "code",
   "execution_count": null,
   "metadata": {},
   "outputs": [],
   "source": []
  }
 ],
 "metadata": {
  "kernelspec": {
   "display_name": "Python 3",
   "language": "python",
   "name": "python3"
  },
  "language_info": {
   "codemirror_mode": {
    "name": "ipython",
    "version": 3
   },
   "file_extension": ".py",
   "mimetype": "text/x-python",
   "name": "python",
   "nbconvert_exporter": "python",
   "pygments_lexer": "ipython3",
   "version": "3.8.3"
  }
 },
 "nbformat": 4,
 "nbformat_minor": 4
}
